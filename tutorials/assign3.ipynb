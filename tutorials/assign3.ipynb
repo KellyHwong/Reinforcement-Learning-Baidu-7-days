{
 "cells": [
  {
   "cell_type": "markdown",
   "metadata": {
    "collapsed": false
   },
   "source": [
    "# Step1 安装依赖"
   ]
  },
  {
   "cell_type": "code",
   "execution_count": 10,
   "metadata": {
    "collapsed": false,
    "tags": []
   },
   "outputs": [
    {
     "output_type": "stream",
     "name": "stderr",
     "text": "ERROR: Invalid requirement: '#'\nC:\\Users\\kellyhwong\\AppData\\Roaming\\Python\\Python37\\site-packages\\IPython\\utils\\_process_win32.py:145: ResourceWarning: unclosed file <_io.BufferedWriter name=4>\n  return process_handler(cmd, _system_body)\nResourceWarning: Enable tracemalloc to get the object allocation traceback\nC:\\Users\\kellyhwong\\AppData\\Roaming\\Python\\Python37\\site-packages\\IPython\\utils\\_process_win32.py:145: ResourceWarning: unclosed file <_io.BufferedReader name=5>\n  return process_handler(cmd, _system_body)\nResourceWarning: Enable tracemalloc to get the object allocation traceback\nC:\\Users\\kellyhwong\\AppData\\Roaming\\Python\\Python37\\site-packages\\IPython\\utils\\_process_win32.py:145: ResourceWarning: unclosed file <_io.BufferedReader name=6>\n  return process_handler(cmd, _system_body)\nResourceWarning: Enable tracemalloc to get the object allocation traceback\nERROR: Invalid requirement: '#'\nC:\\Users\\kellyhwong\\.conda\\envs\\paddle_env\\lib\\threading.py:874: ResourceWarning: unclosed file <_io.BufferedWriter name=4>\n  del self._target, self._args, self._kwargs\nResourceWarning: Enable tracemalloc to get the object allocation traceback\nC:\\Users\\kellyhwong\\.conda\\envs\\paddle_env\\lib\\threading.py:874: ResourceWarning: unclosed file <_io.BufferedReader name=5>\n  del self._target, self._args, self._kwargs\nResourceWarning: Enable tracemalloc to get the object allocation traceback\nC:\\Users\\kellyhwong\\.conda\\envs\\paddle_env\\lib\\threading.py:874: ResourceWarning: unclosed file <_io.BufferedReader name=6>\n  del self._target, self._args, self._kwargs\nResourceWarning: Enable tracemalloc to get the object allocation traceback\nRequirement already satisfied: gym in c:\\users\\kellyhwong\\appdata\\roaming\\python\\python37\\site-packages (0.17.2)\nRequirement already satisfied: pyglet<=1.5.0,>=1.4.0 in c:\\users\\kellyhwong\\appdata\\roaming\\python\\python37\\site-packages (from gym) (1.5.0)\nRequirement already satisfied: cloudpickle<1.4.0,>=1.2.0 in c:\\users\\kellyhwong\\.conda\\envs\\paddle_env\\lib\\site-packages (from gym) (1.3.0)\nRequirement already satisfied: scipy in c:\\users\\kellyhwong\\appdata\\roaming\\python\\python37\\site-packages (from gym) (1.5.1)\nRequirement already satisfied: numpy>=1.10.4 in c:\\users\\kellyhwong\\appdata\\roaming\\python\\python37\\site-packages (from gym) (1.18.1)\nRequirement already satisfied: future in c:\\users\\kellyhwong\\appdata\\roaming\\python\\python37\\site-packages (from pyglet<=1.5.0,>=1.4.0->gym) (0.18.2)\nC:\\Users\\kellyhwong\\AppData\\Roaming\\Python\\Python37\\site-packages\\IPython\\utils\\_process_win32.py:145: ResourceWarning: unclosed file <_io.BufferedWriter name=8>\n  return process_handler(cmd, _system_body)\nResourceWarning: Enable tracemalloc to get the object allocation traceback\nC:\\Users\\kellyhwong\\AppData\\Roaming\\Python\\Python37\\site-packages\\IPython\\utils\\_process_win32.py:145: ResourceWarning: unclosed file <_io.BufferedReader name=9>\n  return process_handler(cmd, _system_body)\nResourceWarning: Enable tracemalloc to get the object allocation traceback\nC:\\Users\\kellyhwong\\AppData\\Roaming\\Python\\Python37\\site-packages\\IPython\\utils\\_process_win32.py:145: ResourceWarning: unclosed file <_io.BufferedReader name=10>\n  return process_handler(cmd, _system_body)\nResourceWarning: Enable tracemalloc to get the object allocation traceback\nRequirement already satisfied: paddlepaddle==1.6.3 in c:\\users\\kellyhwong\\.conda\\envs\\paddle_env\\lib\\site-packages (1.6.3)\nRequirement already satisfied: decorator in c:\\users\\kellyhwong\\appdata\\roaming\\python\\python37\\site-packages (from paddlepaddle==1.6.3) (4.4.2)\nRequirement already satisfied: objgraph in c:\\users\\kellyhwong\\.conda\\envs\\paddle_env\\lib\\site-packages (from paddlepaddle==1.6.3) (3.4.1)\nRequirement already satisfied: Pillow in c:\\users\\kellyhwong\\appdata\\roaming\\python\\python37\\site-packages (from paddlepaddle==1.6.3) (7.0.0)\nRequirement already satisfied: funcsigs in c:\\users\\kellyhwong\\.conda\\envs\\paddle_env\\lib\\site-packages (from paddlepaddle==1.6.3) (1.0.2)\nRequirement already satisfied: numpy>=1.12; python_version >= \"3.5\" in c:\\users\\kellyhwong\\appdata\\roaming\\python\\python37\\site-packages (from paddlepaddle==1.6.3) (1.18.1)\nRequirement already satisfied: scipy; python_version >= \"3.5\" in c:\\users\\kellyhwong\\appdata\\roaming\\python\\python37\\site-packages (from paddlepaddle==1.6.3) (1.5.1)\nRequirement already satisfied: six in c:\\users\\kellyhwong\\appdata\\roaming\\python\\python37\\site-packages (from paddlepaddle==1.6.3) (1.14.0)\nRequirement already satisfied: opencv-python in c:\\users\\kellyhwong\\appdata\\roaming\\python\\python37\\site-packages (from paddlepaddle==1.6.3) (4.2.0.32)\nRequirement already satisfied: prettytable in c:\\users\\kellyhwong\\.conda\\envs\\paddle_env\\lib\\site-packages (from paddlepaddle==1.6.3) (0.7)\nRequirement already satisfied: nltk; python_version >= \"3.5\" in c:\\users\\kellyhwong\\.conda\\envs\\paddle_env\\lib\\site-packages (from paddlepaddle==1.6.3) (3.4.5)\nRequirement already satisfied: pyyaml in c:\\users\\kellyhwong\\appdata\\roaming\\python\\python37\\site-packages (from paddlepaddle==1.6.3) (5.3)\nRequirement already satisfied: protobuf>=3.1.0 in c:\\users\\kellyhwong\\appdata\\roaming\\python\\python37\\site-packages (from paddlepaddle==1.6.3) (3.11.3)\nRequirement already satisfied: matplotlib; python_version >= \"3.6\" in c:\\users\\kellyhwong\\appdata\\roaming\\python\\python37\\site-packages (from paddlepaddle==1.6.3) (3.1.3)\nRequirement already satisfied: requests>=2.20.0 in c:\\users\\kellyhwong\\appdata\\roaming\\python\\python37\\site-packages (from paddlepaddle==1.6.3) (2.23.0)\nRequirement already satisfied: graphviz in c:\\users\\kellyhwong\\appdata\\roaming\\python\\python37\\site-packages (from paddlepaddle==1.6.3) (0.14)\nRequirement already satisfied: rarfile in c:\\users\\kellyhwong\\.conda\\envs\\paddle_env\\lib\\site-packages (from paddlepaddle==1.6.3) (3.0)\nRequirement already satisfied: setuptools in c:\\users\\kellyhwong\\appdata\\roaming\\python\\python37\\site-packages (from protobuf>=3.1.0->paddlepaddle==1.6.3) (45.2.0)\nRequirement already satisfied: python-dateutil>=2.1 in c:\\users\\kellyhwong\\appdata\\roaming\\python\\python37\\site-packages (from matplotlib; python_version >= \"3.6\"->paddlepaddle==1.6.3) (2.8.1)\nRequirement already satisfied: cycler>=0.10 in c:\\users\\kellyhwong\\appdata\\roaming\\python\\python37\\site-packages (from matplotlib; python_version >= \"3.6\"->paddlepaddle==1.6.3) (0.10.0)\nRequirement already satisfied: kiwisolver>=1.0.1 in c:\\users\\kellyhwong\\appdata\\roaming\\python\\python37\\site-packages (from matplotlib; python_version >= \"3.6\"->paddlepaddle==1.6.3) (1.1.0)\nRequirement already satisfied: pyparsing!=2.0.4,!=2.1.2,!=2.1.6,>=2.0.1 in c:\\users\\kellyhwong\\appdata\\roaming\\python\\python37\\site-packages (from matplotlib; python_version >= \"3.6\"->paddlepaddle==1.6.3) (2.4.6)\nRequirement already satisfied: chardet<4,>=3.0.2 in c:\\users\\kellyhwong\\appdata\\roaming\\python\\python37\\site-packages (from requests>=2.20.0->paddlepaddle==1.6.3) (3.0.4)\nRequirement already satisfied: idna<3,>=2.5 in c:\\users\\kellyhwong\\appdata\\roaming\\python\\python37\\site-packages (from requests>=2.20.0->paddlepaddle==1.6.3) (2.9)\nRequirement already satisfied: urllib3!=1.25.0,!=1.25.1,<1.26,>=1.21.1 in c:\\users\\kellyhwong\\appdata\\roaming\\python\\python37\\site-packages (from requests>=2.20.0->paddlepaddle==1.6.3) (1.25.8)\nRequirement already satisfied: certifi>=2017.4.17 in c:\\users\\kellyhwong\\appdata\\roaming\\python\\python37\\site-packages (from requests>=2.20.0->paddlepaddle==1.6.3) (2019.11.28)\nRequirement already satisfied: parl==1.3.1 in c:\\users\\kellyhwong\\appdata\\roaming\\python\\python37\\site-packages (1.3.1)\nRequirement already satisfied: tensorboardX==1.8 in c:\\users\\kellyhwong\\.conda\\envs\\paddle_env\\lib\\site-packages (from parl==1.3.1) (1.8)\nRequirement already satisfied: flask>=1.0.4 in c:\\users\\kellyhwong\\.conda\\envs\\paddle_env\\lib\\site-packages (from parl==1.3.1) (1.1.2)\nCollecting flask-cors\n  Using cached Flask_Cors-3.0.8-py2.py3-none-any.whl (14 kB)\nRequirement already satisfied: tb-nightly==1.15.0a20190801 in c:\\users\\kellyhwong\\.conda\\envs\\paddle_env\\lib\\site-packages (from parl==1.3.1) (1.15.0a20190801)\nRequirement already satisfied: psutil>=5.6.2 in c:\\users\\kellyhwong\\appdata\\roaming\\python\\python37\\site-packages (from parl==1.3.1) (5.7.0)\nRequirement already satisfied: scipy>=1.0.0 in c:\\users\\kellyhwong\\appdata\\roaming\\python\\python37\\site-packages (from parl==1.3.1) (1.5.1)\nRequirement already satisfied: click in c:\\users\\kellyhwong\\appdata\\roaming\\python\\python37\\site-packages (from parl==1.3.1) (7.1.1)\nCollecting pyarrow==0.13.0\n  Using cached pyarrow-0.13.0-cp37-cp37m-win_amd64.whl (13.5 MB)\nCollecting cloudpickle==1.2.1\n  Using cached cloudpickle-1.2.1-py2.py3-none-any.whl (25 kB)\nRequirement already satisfied: pyzmq==18.0.1 in c:\\users\\kellyhwong\\.conda\\envs\\paddle_env\\lib\\site-packages (from parl==1.3.1) (18.0.1)\nRequirement already satisfied: termcolor>=1.1.0 in c:\\users\\kellyhwong\\appdata\\roaming\\python\\python37\\site-packages (from parl==1.3.1) (1.1.0)\nRequirement already satisfied: six in c:\\users\\kellyhwong\\appdata\\roaming\\python\\python37\\site-packages (from tensorboardX==1.8->parl==1.3.1) (1.14.0)\nRequirement already satisfied: numpy in c:\\users\\kellyhwong\\appdata\\roaming\\python\\python37\\site-packages (from tensorboardX==1.8->parl==1.3.1) (1.18.1)\nRequirement already satisfied: protobuf>=3.2.0 in c:\\users\\kellyhwong\\appdata\\roaming\\python\\python37\\site-packages (from tensorboardX==1.8->parl==1.3.1) (3.11.3)\nRequirement already satisfied: Jinja2>=2.10.1 in c:\\users\\kellyhwong\\appdata\\roaming\\python\\python37\\site-packages (from flask>=1.0.4->parl==1.3.1) (2.11.1)\nRequirement already satisfied: itsdangerous>=0.24 in c:\\users\\kellyhwong\\appdata\\roaming\\python\\python37\\site-packages (from flask>=1.0.4->parl==1.3.1) (1.1.0)\nRequirement already satisfied: Werkzeug>=0.15 in c:\\users\\kellyhwong\\appdata\\roaming\\python\\python37\\site-packages (from flask>=1.0.4->parl==1.3.1) (1.0.0)\nRequirement already satisfied: markdown>=2.6.8 in c:\\users\\kellyhwong\\appdata\\roaming\\python\\python37\\site-packages (from tb-nightly==1.15.0a20190801->parl==1.3.1) (3.2.1)\nRequirement already satisfied: grpcio>=1.6.3 in c:\\users\\kellyhwong\\appdata\\roaming\\python\\python37\\site-packages (from tb-nightly==1.15.0a20190801->parl==1.3.1) (1.27.2)\nRequirement already satisfied: setuptools>=41.0.0 in c:\\users\\kellyhwong\\appdata\\roaming\\python\\python37\\site-packages (from tb-nightly==1.15.0a20190801->parl==1.3.1) (45.2.0)\nRequirement already satisfied: absl-py>=0.4 in c:\\users\\kellyhwong\\appdata\\roaming\\python\\python37\\site-packages (from tb-nightly==1.15.0a20190801->parl==1.3.1) (0.9.0)\nRequirement already satisfied: wheel>=0.26; python_version >= \"3\" in c:\\users\\kellyhwong\\appdata\\roaming\\python\\python37\\site-packages (from tb-nightly==1.15.0a20190801->parl==1.3.1) (0.34.2)\nRequirement already satisfied: MarkupSafe>=0.23 in c:\\users\\kellyhwong\\appdata\\roaming\\python\\python37\\site-packages (from Jinja2>=2.10.1->flask>=1.0.4->parl==1.3.1) (1.1.1)\nInstalling collected packages: flask-cors, pyarrow, cloudpickle\n  Attempting uninstall: cloudpickle\n    Found existing installation: cloudpickle 1.3.0\n    Uninstalling cloudpickle-1.3.0:\n      Successfully uninstalled cloudpickle-1.3.0\nSuccessfully installed cloudpickle-1.2.1 flask-cors-3.0.8 pyarrow-0.13.0\n"
    }
   ],
   "source": [
    "!pip uninstall -y parl  # 说明：AIStudio预装的parl版本太老，容易跟其他库产生兼容性冲突，建议先卸载\n",
    "!pip uninstall -y pandas scikit-learn # 提示：在AIStudio中卸载这两个库再import parl可避免warning提示，不卸载也不影响parl的使用\n",
    "\n",
    "!pip install gym\n",
    "!pip install paddlepaddle==1.6.3\n",
    "!pip install parl==1.3.1\n",
    "\n",
    "# 说明：安装日志中出现两条红色的关于 paddlehub 和 visualdl 的 ERROR 与parl无关，可以忽略，不影响使用"
   ]
  },
  {
   "cell_type": "markdown",
   "metadata": {
    "collapsed": false
   },
   "source": [
    "# Step2  导入依赖"
   ]
  },
  {
   "cell_type": "code",
   "execution_count": 11,
   "metadata": {
    "collapsed": false
   },
   "outputs": [],
   "source": [
    "import parl\n",
    "from parl import layers\n",
    "import paddle.fluid as fluid\n",
    "import copy\n",
    "import numpy as np\n",
    "import os\n",
    "import gym\n",
    "from parl.utils import logger"
   ]
  },
  {
   "cell_type": "markdown",
   "metadata": {
    "collapsed": false
   },
   "source": [
    "# Step3 设置超参数"
   ]
  },
  {
   "cell_type": "code",
   "execution_count": 12,
   "metadata": {
    "collapsed": false
   },
   "outputs": [],
   "source": [
    "LEARN_FREQ = 5 # 训练频率，不需要每一个step都learn，攒一些新增经验后再learn，提高效率\n",
    "MEMORY_SIZE = 20000    # replay memory的大小，越大越占用内存\n",
    "MEMORY_WARMUP_SIZE = 200  # replay_memory 里需要预存一些经验数据，再从里面sample一个batch的经验让agent去learn\n",
    "BATCH_SIZE = 32   # 每次给agent learn的数据数量，从replay memory随机里sample一批数据出来\n",
    "GAMMA = 0.99 # reward 的衰减因子，一般取 0.9 到 0.999 不等\n",
    "######################################################################\n",
    "######################################################################\n",
    "#\n",
    "# 1. 请设定 learning rate，可以从 0.001 起调，尝试增减\n",
    "#\n",
    "######################################################################\n",
    "######################################################################\n",
    "LEARNING_RATE = 0.001 # 学习率"
   ]
  },
  {
   "cell_type": "markdown",
   "metadata": {
    "collapsed": false
   },
   "source": [
    "# Step4 搭建Model、Algorithm、Agent架构\n",
    "* `Agent`把产生的数据传给`algorithm`，`algorithm`根据`model`的模型结构计算出`Loss`，使用`SGD`或者其他优化器不断的优化，`PARL`架构可以很方便的应用在各类深度强化学习问题中。\n",
    "\n",
    "## Model\n",
    "* `Model`用来定义前向(`Forward`)网络，用户可以自由的定制自己的网络结构。"
   ]
  },
  {
   "cell_type": "code",
   "execution_count": 13,
   "metadata": {
    "collapsed": false
   },
   "outputs": [
    {
     "output_type": "error",
     "ename": "IndentationError",
     "evalue": "expected an indented block (<ipython-input-13-c2b5d6ac3f34>, line 11)",
     "traceback": [
      "\u001b[1;36m  File \u001b[1;32m\"<ipython-input-13-c2b5d6ac3f34>\"\u001b[1;36m, line \u001b[1;32m11\u001b[0m\n\u001b[1;33m    def value(self, obs):\u001b[0m\n\u001b[1;37m      ^\u001b[0m\n\u001b[1;31mIndentationError\u001b[0m\u001b[1;31m:\u001b[0m expected an indented block\n"
     ]
    }
   ],
   "source": [
    "class Model(parl.Model):\n",
    "    def __init__(self, act_dim):\n",
    "        ######################################################################\n",
    "        ######################################################################\n",
    "        #\n",
    "        # 2. 请参考课堂Demo，配置model\n",
    "        #\n",
    "        ######################################################################\n",
    "        ######################################################################\n",
    "\n",
    "    def value(self, obs):\n",
    "        # 定义网络\n",
    "        # 输入state，输出所有action对应的Q，[Q(s,a1), Q(s,a2), Q(s,a3)...]\n",
    "        \n",
    "        ######################################################################\n",
    "        ######################################################################\n",
    "        #\n",
    "        # 3. 请参考课堂Demo，组装Q网络\n",
    "        #\n",
    "        ######################################################################\n",
    "        ######################################################################\n",
    "        return Q"
   ]
  },
  {
   "cell_type": "markdown",
   "metadata": {
    "collapsed": false
   },
   "source": [
    "## Algorithm\n",
    "* `Algorithm`定义了具体的算法来更新前向网络(`Model`)，也就是通过定义损失函数来更新`Model`，和算法相关的计算都放在`algorithm`中。"
   ]
  },
  {
   "cell_type": "code",
   "execution_count": 14,
   "metadata": {
    "collapsed": false
   },
   "outputs": [],
   "source": [
    "from parl.algorithms import DQN # 直接从parl库中导入DQN算法，无需自己重写算法"
   ]
  },
  {
   "cell_type": "markdown",
   "metadata": {
    "collapsed": false
   },
   "source": [
    "## Agent\n",
    "* `Agent`负责算法与环境的交互，在交互过程中把生成的数据提供给`Algorithm`来更新模型(`Model`)，数据的预处理流程也一般定义在这里。"
   ]
  },
  {
   "cell_type": "code",
   "execution_count": 15,
   "metadata": {
    "collapsed": false
   },
   "outputs": [],
   "source": [
    "class Agent(parl.Agent):\n",
    "    def __init__(self,\n",
    "                 algorithm,\n",
    "                 obs_dim,\n",
    "                 act_dim,\n",
    "                 e_greed=0.1,\n",
    "                 e_greed_decrement=0):\n",
    "        assert isinstance(obs_dim, int)\n",
    "        assert isinstance(act_dim, int)\n",
    "        self.obs_dim = obs_dim\n",
    "        self.act_dim = act_dim\n",
    "        super(Agent, self).__init__(algorithm)\n",
    "\n",
    "        self.global_step = 0\n",
    "        self.update_target_steps = 200  # 每隔200个training steps再把model的参数复制到target_model中\n",
    "\n",
    "        self.e_greed = e_greed  # 有一定概率随机选取动作，探索\n",
    "        self.e_greed_decrement = e_greed_decrement  # 随着训练逐步收敛，探索的程度慢慢降低\n",
    "\n",
    "    def build_program(self):\n",
    "        self.pred_program = fluid.Program()\n",
    "        self.learn_program = fluid.Program()\n",
    "\n",
    "        with fluid.program_guard(self.pred_program):  # 搭建计算图用于 预测动作，定义输入输出变量\n",
    "            obs = layers.data(\n",
    "                name='obs', shape=[self.obs_dim], dtype='float32')\n",
    "            self.value = self.alg.predict(obs)\n",
    "\n",
    "        with fluid.program_guard(self.learn_program):  # 搭建计算图用于 更新Q网络，定义输入输出变量\n",
    "            obs = layers.data(\n",
    "                name='obs', shape=[self.obs_dim], dtype='float32')\n",
    "            action = layers.data(name='act', shape=[1], dtype='int32')\n",
    "            reward = layers.data(name='reward', shape=[], dtype='float32')\n",
    "            next_obs = layers.data(\n",
    "                name='next_obs', shape=[self.obs_dim], dtype='float32')\n",
    "            terminal = layers.data(name='terminal', shape=[], dtype='bool')\n",
    "            self.cost = self.alg.learn(obs, action, reward, next_obs, terminal)\n",
    "\n",
    "    def sample(self, obs):\n",
    "        sample = np.random.rand()  # 产生0~1之间的小数\n",
    "        if sample < self.e_greed:\n",
    "            act = np.random.randint(self.act_dim)  # 探索：每个动作都有概率被选择\n",
    "        else:\n",
    "            act = self.predict(obs)  # 选择最优动作\n",
    "        self.e_greed = max(\n",
    "            0.01, self.e_greed - self.e_greed_decrement)  # 随着训练逐步收敛，探索的程度慢慢降低\n",
    "        return act\n",
    "\n",
    "    def predict(self, obs):  # 选择最优动作\n",
    "        obs = np.expand_dims(obs, axis=0)\n",
    "        pred_Q = self.fluid_executor.run(\n",
    "            self.pred_program,\n",
    "            feed={'obs': obs.astype('float32')},\n",
    "            fetch_list=[self.value])[0]\n",
    "        pred_Q = np.squeeze(pred_Q, axis=0)\n",
    "        act = np.argmax(pred_Q)  # 选择Q最大的下标，即对应的动作\n",
    "        return act\n",
    "\n",
    "    def learn(self, obs, act, reward, next_obs, terminal):\n",
    "        # 每隔200个training steps同步一次model和target_model的参数\n",
    "        if self.global_step % self.update_target_steps == 0:\n",
    "            self.alg.sync_target()\n",
    "        self.global_step += 1\n",
    "\n",
    "        act = np.expand_dims(act, -1)\n",
    "        feed = {\n",
    "            'obs': obs.astype('float32'),\n",
    "            'act': act.astype('int32'),\n",
    "            'reward': reward,\n",
    "            'next_obs': next_obs.astype('float32'),\n",
    "            'terminal': terminal\n",
    "        }\n",
    "        cost = self.fluid_executor.run(\n",
    "            self.learn_program, feed=feed, fetch_list=[self.cost])[0]  # 训练一次网络\n",
    "        return cost"
   ]
  },
  {
   "cell_type": "markdown",
   "metadata": {
    "collapsed": false
   },
   "source": [
    "# Step5 ReplayMemory\n",
    "* 经验池：用于存储多条经验，实现 经验回放。"
   ]
  },
  {
   "cell_type": "code",
   "execution_count": 16,
   "metadata": {
    "collapsed": false
   },
   "outputs": [],
   "source": [
    "# replay_memory.py\n",
    "import random\n",
    "import collections\n",
    "import numpy as np\n",
    "\n",
    "\n",
    "class ReplayMemory(object):\n",
    "    def __init__(self, max_size):\n",
    "        self.buffer = collections.deque(maxlen=max_size)\n",
    "\n",
    "    # 增加一条经验到经验池中\n",
    "    def append(self, exp):\n",
    "        self.buffer.append(exp)\n",
    "\n",
    "    # 从经验池中选取N条经验出来\n",
    "    def sample(self, batch_size):\n",
    "        mini_batch = random.sample(self.buffer, batch_size)\n",
    "        obs_batch, action_batch, reward_batch, next_obs_batch, done_batch = [], [], [], [], []\n",
    "\n",
    "        for experience in mini_batch:\n",
    "            s, a, r, s_p, done = experience\n",
    "            obs_batch.append(s)\n",
    "            action_batch.append(a)\n",
    "            reward_batch.append(r)\n",
    "            next_obs_batch.append(s_p)\n",
    "            done_batch.append(done)\n",
    "\n",
    "        return np.array(obs_batch).astype('float32'), \\\n",
    "            np.array(action_batch).astype('float32'), np.array(reward_batch).astype('float32'),\\\n",
    "            np.array(next_obs_batch).astype('float32'), np.array(done_batch).astype('float32')\n",
    "\n",
    "    def __len__(self):\n",
    "        return len(self.buffer)\n"
   ]
  },
  {
   "cell_type": "markdown",
   "metadata": {
    "collapsed": false
   },
   "source": [
    "# Step6 Training && Test（训练&&测试）"
   ]
  },
  {
   "cell_type": "code",
   "execution_count": 17,
   "metadata": {
    "collapsed": false
   },
   "outputs": [],
   "source": [
    "# 训练一个episode\n",
    "def run_episode(env, agent, rpm):\n",
    "    total_reward = 0\n",
    "    obs = env.reset()\n",
    "    step = 0\n",
    "    while True:\n",
    "        step += 1\n",
    "        action = agent.sample(obs)  # 采样动作，所有动作都有概率被尝试到\n",
    "        next_obs, reward, done, _ = env.step(action)\n",
    "        rpm.append((obs, action, reward, next_obs, done))\n",
    "\n",
    "        # train model\n",
    "        if (len(rpm) > MEMORY_WARMUP_SIZE) and (step % LEARN_FREQ == 0):\n",
    "            (batch_obs, batch_action, batch_reward, batch_next_obs,\n",
    "             batch_done) = rpm.sample(BATCH_SIZE)\n",
    "            train_loss = agent.learn(batch_obs, batch_action, batch_reward,\n",
    "                                     batch_next_obs,\n",
    "                                     batch_done)  # s,a,r,s',done\n",
    "\n",
    "        total_reward += reward\n",
    "        obs = next_obs\n",
    "        if done:\n",
    "            break\n",
    "    return total_reward\n",
    "\n",
    "\n",
    "# 评估 agent, 跑 5 个episode，总reward求平均\n",
    "def evaluate(env, agent, render=False):\n",
    "    eval_reward = []\n",
    "    for i in range(5):\n",
    "        obs = env.reset()\n",
    "        episode_reward = 0\n",
    "        while True:\n",
    "            action = agent.predict(obs)  # 预测动作，只选最优动作\n",
    "            obs, reward, done, _ = env.step(action)\n",
    "            episode_reward += reward\n",
    "            if render:\n",
    "                env.render()\n",
    "            if done:\n",
    "                break\n",
    "        eval_reward.append(episode_reward)\n",
    "    return np.mean(eval_reward)\n"
   ]
  },
  {
   "cell_type": "markdown",
   "metadata": {
    "collapsed": false
   },
   "source": [
    "# Step7 创建环境和Agent，创建经验池，启动训练，保存模型"
   ]
  },
  {
   "cell_type": "code",
   "execution_count": 18,
   "metadata": {
    "collapsed": false
   },
   "outputs": [
    {
     "output_type": "error",
     "ename": "SyntaxError",
     "evalue": "invalid syntax (<ipython-input-18-b8a2f7af94c1>, line 19)",
     "traceback": [
      "\u001b[1;36m  File \u001b[1;32m\"<ipython-input-18-b8a2f7af94c1>\"\u001b[1;36m, line \u001b[1;32m19\u001b[0m\n\u001b[1;33m    model =\u001b[0m\n\u001b[1;37m            ^\u001b[0m\n\u001b[1;31mSyntaxError\u001b[0m\u001b[1;31m:\u001b[0m invalid syntax\n"
     ]
    }
   ],
   "source": [
    "# 创建环境\n",
    "env = gym.make('MountainCar-v0')\n",
    "action_dim = env.action_space.n  # MountainCar-v0: 3\n",
    "obs_shape = env.observation_space.shape  # MountainCar-v0: (2,)\n",
    "\n",
    "# 创建经验池\n",
    "rpm = ReplayMemory(MEMORY_SIZE)  # DQN的经验回放池\n",
    "\n",
    "\n",
    "\n",
    "# 根据parl框架构建agent\n",
    "######################################################################\n",
    "######################################################################\n",
    "#\n",
    "# 4. 请参考课堂Demo，嵌套Model, DQN, Agent构建 agent\n",
    "#\n",
    "######################################################################\n",
    "######################################################################\n",
    "model = \n",
    "algorithm = \n",
    "agent = \n",
    "\n",
    "\n",
    "\n",
    "# 加载模型\n",
    "# save_path = './dqn_model.ckpt'\n",
    "# agent.restore(save_path)\n",
    "\n",
    "# 先往经验池里存一些数据，避免最开始训练的时候样本丰富度不够\n",
    "while len(rpm) < MEMORY_WARMUP_SIZE:\n",
    "    run_episode(env, agent, rpm)\n",
    "\n",
    "max_episode = 2000\n",
    "\n",
    "# 开始训练\n",
    "episode = 0\n",
    "while episode < max_episode:  # 训练max_episode个回合，test部分不计算入episode数量\n",
    "    # train part\n",
    "    for i in range(0, 50):\n",
    "        total_reward = run_episode(env, agent, rpm)\n",
    "        episode += 1\n",
    "\n",
    "    # test part\n",
    "    eval_reward = evaluate(env, agent, render=False)  # render=True 查看显示效果\n",
    "    logger.info('episode:{}    e_greed:{}   test_reward:{}'.format(\n",
    "        episode, agent.e_greed, eval_reward))\n",
    "\n",
    "# 训练结束，保存模型\n",
    "save_path = './dqn_model.ckpt'\n",
    "agent.save(save_path)"
   ]
  }
 ],
 "metadata": {
  "kernelspec": {
   "display_name": "Python 3.7.7 64-bit ('paddle_env': conda)",
   "language": "python",
   "name": "python37764bitpaddleenvconda1ff93797bcc3418dbcfd5431033bde26"
  },
  "language_info": {
   "codemirror_mode": {
    "name": "ipython",
    "version": 3
   },
   "file_extension": ".py",
   "mimetype": "text/x-python",
   "name": "python",
   "nbconvert_exporter": "python",
   "pygments_lexer": "ipython3",
   "version": "3.7.7-final"
  }
 },
 "nbformat": 4,
 "nbformat_minor": 1
}