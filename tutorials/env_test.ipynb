{
 "cells": [
  {
   "cell_type": "code",
   "execution_count": 2,
   "metadata": {},
   "outputs": [],
   "source": [
    "import gym\n",
    "from lesson1.gridworld import FrozenLakeWapper"
   ]
  },
  {
   "cell_type": "code",
   "execution_count": 3,
   "metadata": {},
   "outputs": [],
   "source": [
    "env = gym.make(\"FrozenLake-v0\", is_slippery=False)\n",
    "env = FrozenLakeWapper(env)\n",
    "env.reset()\n",
    "# for _ in range(1000):\n",
    "#     env.render()\n",
    "#     env.step(env.action_space.sample())  # take a random action\n",
    "# env.close()\n",
    "env.render()"
   ]
  },
  {
   "cell_type": "code",
   "execution_count": 11,
   "metadata": {
    "tags": []
   },
   "outputs": [
    {
     "output_type": "stream",
     "name": "stdout",
     "text": "env.action_space: Discrete(4)\nenv.observation_space: Discrete(16)\n"
    }
   ],
   "source": [
    "print(f\"env.action_space: {env.action_space}\")\n",
    "print(f\"env.observation_space: {env.observation_space}\")"
   ]
  },
  {
   "cell_type": "code",
   "execution_count": 44,
   "metadata": {
    "tags": []
   },
   "outputs": [
    {
     "output_type": "stream",
     "name": "stdout",
     "text": "action: 2\nreward: 0\ndone: True\n"
    }
   ],
   "source": [
    "action = env.action_space.sample() # take a random action\n",
    "action = 2\n",
    "print(f\"action: {action}\")\n",
    "observation, reward, done, info = env.step(action) # 0, left; 1, down; 2, right; 3, up;\n",
    "print(f\"reward: {reward}\")\n",
    "print(f\"done: {done}\") # end if True, and need to be reset\n",
    "env.render()"
   ]
  },
  {
   "cell_type": "code",
   "execution_count": 38,
   "metadata": {},
   "outputs": [],
   "source": [
    "env.reset()\n",
    "env.render()"
   ]
  },
  {
   "cell_type": "code",
   "execution_count": 45,
   "metadata": {},
   "outputs": [],
   "source": [
    "env.close()"
   ]
  },
  {
   "cell_type": "code",
   "execution_count": null,
   "metadata": {},
   "outputs": [],
   "source": []
  }
 ],
 "metadata": {
  "language_info": {
   "codemirror_mode": {
    "name": "ipython",
    "version": 3
   },
   "file_extension": ".py",
   "mimetype": "text/x-python",
   "name": "python",
   "nbconvert_exporter": "python",
   "pygments_lexer": "ipython3",
   "version": "3.7.7-final"
  },
  "orig_nbformat": 2,
  "kernelspec": {
   "name": "python37764bitpaddleenvconda1ff93797bcc3418dbcfd5431033bde26",
   "display_name": "Python 3.7.7 64-bit ('paddle_env': conda)"
  }
 },
 "nbformat": 4,
 "nbformat_minor": 2
}