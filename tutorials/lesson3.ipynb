{
 "cells": [
  {
   "cell_type": "markdown",
   "metadata": {
    "collapsed": false
   },
   "source": [
    "# Lesson 3 神经网络方法求解RL——DQN\n",
    "## 1. DQN简介\n",
    "* 上节课介绍的表格型方法存储的状态数量有限，当面对围棋或机器人控制这类有数不清的状态的环境时，表格型方法在存储和查找效率上都受局限，`DQN`的提出解决了这一局限，使用神经网络来近似替代`Q`表格。\n",
    "* 本质上`DQN`还是一个`Q-learning`算法，更新方式一致。为了更好的探索环境，同样的也采用`ε-greedy`方法训练。\n",
    "* 在`Q-learning`的基础上，`DQN`提出了两个技巧使得`Q`网络的更新迭代更稳定。\n",
    "    * 经验回放 `Experience Replay`：主要解决样本关联性和利用效率的问题。使用一个经验池存储多条经验`s,a,r,s'`，再从中随机抽取一批数据送去训练。\n",
    "    * 固定Q目标 `Fixed-Q-Target`：主要解决算法训练不稳定的问题。复制一个和原来`Q`网络结构一样的`Target Q`网络，用于计算`Q`目标值。\n",
    "\n",
    "## 2. DQN实践\n",
    "* 使用`DQN`解决CartPole问题，移动小车使得车上的摆杆倒立起来。\n",
    "\n",
    "### Step1 安装依赖"
   ]
  },
  {
   "cell_type": "code",
   "execution_count": null,
   "metadata": {
    "collapsed": false,
    "tags": []
   },
   "outputs": [],
   "source": [
    "# !pip uninstall -y parl  # 说明：AIStudio预装的parl版本太老，容易跟其他库产生兼容性冲突，建议先卸载\n",
    "# !pip uninstall -y pandas scikit-learn # 提示：在AIStudio中卸载这两个库再import parl可避免warning提示，不卸载也不影响parl的使用\n",
    "\n",
    "# !pip install gym\n",
    "# !pip install paddlepaddle==1.6.3\n",
    "# !pip install parl==1.3.1\n",
    "\n",
    "# 说明：安装日志中出现两条红色的关于 paddlehub 和 visualdl 的 ERROR 与parl无关，可以忽略，不影响使用"
   ]
  },
  {
   "cell_type": "markdown",
   "metadata": {
    "collapsed": false
   },
   "source": [
    "### Step2  导入依赖"
   ]
  },
  {
   "cell_type": "code",
   "execution_count": 2,
   "metadata": {
    "collapsed": false
   },
   "outputs": [],
   "source": [
    "import parl\n",
    "from parl import layers\n",
    "import paddle.fluid as fluid\n",
    "import copy\n",
    "import numpy as np\n",
    "import os\n",
    "import gym\n",
    "from parl.utils import logger"
   ]
  },
  {
   "cell_type": "markdown",
   "metadata": {
    "collapsed": false
   },
   "source": [
    "### Step3 设置超参数"
   ]
  },
  {
   "cell_type": "code",
   "execution_count": 3,
   "metadata": {
    "collapsed": false
   },
   "outputs": [],
   "source": [
    "LEARN_FREQ = 5 # 训练频率，不需要每一个step都learn，攒一些新增经验后再learn，提高效率\n",
    "MEMORY_SIZE = 20000    # replay memory的大小，越大越占用内存\n",
    "MEMORY_WARMUP_SIZE = 200  # replay_memory 里需要预存一些经验数据，再开启训练\n",
    "BATCH_SIZE = 32   # 每次给agent learn的数据数量，从replay memory随机里sample一批数据出来\n",
    "LEARNING_RATE = 0.001 # 学习率\n",
    "GAMMA = 0.99 # reward 的衰减因子，一般取 0.9 到 0.999 不等"
   ]
  },
  {
   "cell_type": "markdown",
   "metadata": {
    "collapsed": false
   },
   "source": [
    "### Step4 搭建Model、Algorithm、Agent架构\n",
    "* `Agent`把产生的数据传给`algorithm`，`algorithm`根据`model`的模型结构计算出`Loss`，使用`SGD`或者其他优化器不断的优化，`PARL`这种架构可以很方便的应用在各类深度强化学习问题中。\n",
    "\n",
    "#### （1）Model\n",
    "* `Model`用来定义前向(`Forward`)网络，用户可以自由的定制自己的网络结构。"
   ]
  },
  {
   "cell_type": "code",
   "execution_count": 4,
   "metadata": {
    "collapsed": false
   },
   "outputs": [],
   "source": [
    "class Model(parl.Model):\n",
    "    def __init__(self, act_dim):\n",
    "        hid1_size = 128\n",
    "        hid2_size = 128\n",
    "        # 3层全连接网络\n",
    "        self.fc1 = layers.fc(size=hid1_size, act='relu')\n",
    "        self.fc2 = layers.fc(size=hid2_size, act='relu')\n",
    "        self.fc3 = layers.fc(size=act_dim, act=None)\n",
    "\n",
    "    def value(self, obs):\n",
    "        # 定义网络\n",
    "        # 输入state，输出所有action对应的Q，[Q(s,a1), Q(s,a2), Q(s,a3)...]\n",
    "        h1 = self.fc1(obs)\n",
    "        h2 = self.fc2(h1)\n",
    "        Q = self.fc3(h2)\n",
    "        return Q"
   ]
  },
  {
   "cell_type": "markdown",
   "metadata": {
    "collapsed": false
   },
   "source": [
    "#### （2）Algorithm\n",
    "* `Algorithm` 定义了具体的算法来更新前向网络(`Model`)，也就是通过定义损失函数来更新`Model`，和算法相关的计算都放在`algorithm`中。"
   ]
  },
  {
   "cell_type": "code",
   "execution_count": 5,
   "metadata": {
    "collapsed": false
   },
   "outputs": [],
   "source": [
    "# from parl.algorithms import DQN # 也可以直接从parl库中导入DQN算法\n",
    "\n",
    "class DQN(parl.Algorithm):\n",
    "    def __init__(self, model, act_dim=None, gamma=None, lr=None):\n",
    "        \"\"\" DQN algorithm\n",
    "        \n",
    "        Args:\n",
    "            model (parl.Model): 定义Q函数的前向网络结构\n",
    "            act_dim (int): action空间的维度，即有几个action\n",
    "            gamma (float): reward的衰减因子\n",
    "            lr (float): learning rate 学习率.\n",
    "        \"\"\"\n",
    "        self.model = model\n",
    "        self.target_model = copy.deepcopy(model)\n",
    "\n",
    "        assert isinstance(act_dim, int)\n",
    "        assert isinstance(gamma, float)\n",
    "        assert isinstance(lr, float)\n",
    "        self.act_dim = act_dim\n",
    "        self.gamma = gamma\n",
    "        self.lr = lr\n",
    "\n",
    "    def predict(self, obs):\n",
    "        \"\"\" 使用self.model的value网络来获取 [Q(s,a1),Q(s,a2),...]\n",
    "        \"\"\"\n",
    "        return self.model.value(obs)\n",
    "\n",
    "    def learn(self, obs, action, reward, next_obs, terminal):\n",
    "        \"\"\" 使用DQN算法更新self.model的value网络\n",
    "        \"\"\"\n",
    "        # 从target_model中获取 max Q' 的值，用于计算target_Q\n",
    "        next_pred_value = self.target_model.value(next_obs)\n",
    "        best_v = layers.reduce_max(next_pred_value, dim=1)\n",
    "        best_v.stop_gradient = True  # 阻止梯度传递\n",
    "        terminal = layers.cast(terminal, dtype='float32')\n",
    "        target = reward + (1.0 - terminal) * self.gamma * best_v\n",
    "\n",
    "        pred_value = self.model.value(obs)  # 获取Q预测值\n",
    "        # 将action转onehot向量，比如：3 => [0,0,0,1,0]\n",
    "        action_onehot = layers.one_hot(action, self.act_dim)\n",
    "        action_onehot = layers.cast(action_onehot, dtype='float32')\n",
    "        # 下面一行是逐元素相乘，拿到action对应的 Q(s,a)\n",
    "        # 比如：pred_value = [[2.3, 5.7, 1.2, 3.9, 1.4]], action_onehot = [[0,0,0,1,0]]\n",
    "        #  ==> pred_action_value = [[3.9]]\n",
    "        pred_action_value = layers.reduce_sum(\n",
    "            layers.elementwise_mul(action_onehot, pred_value), dim=1)\n",
    "\n",
    "        # 计算 Q(s,a) 与 target_Q的均方差，得到loss\n",
    "        cost = layers.square_error_cost(pred_action_value, target)\n",
    "        cost = layers.reduce_mean(cost)\n",
    "        optimizer = fluid.optimizer.Adam(learning_rate=self.lr)  # 使用Adam优化器\n",
    "        optimizer.minimize(cost)\n",
    "        return cost\n",
    "\n",
    "    def sync_target(self):\n",
    "        \"\"\" 把 self.model 的模型参数值同步到 self.target_model\n",
    "        \"\"\"\n",
    "        self.model.sync_weights_to(self.target_model)\n"
   ]
  },
  {
   "cell_type": "markdown",
   "metadata": {
    "collapsed": false
   },
   "source": [
    "#### （3）Agent\n",
    "* `Agent` 负责算法与环境的交互，在交互过程中把生成的数据提供给`Algorithm`来更新模型(`Model`)，数据的预处理流程也一般定义在这里。"
   ]
  },
  {
   "cell_type": "code",
   "execution_count": 6,
   "metadata": {
    "collapsed": false
   },
   "outputs": [],
   "source": [
    "class Agent(parl.Agent):\n",
    "    def __init__(self,\n",
    "                 algorithm,\n",
    "                 obs_dim,\n",
    "                 act_dim,\n",
    "                 e_greed=0.1,\n",
    "                 e_greed_decrement=0):\n",
    "        assert isinstance(obs_dim, int)\n",
    "        assert isinstance(act_dim, int)\n",
    "        self.obs_dim = obs_dim\n",
    "        self.act_dim = act_dim\n",
    "        super(Agent, self).__init__(algorithm)\n",
    "\n",
    "        self.global_step = 0\n",
    "        self.update_target_steps = 200  # 每隔200个training steps再把model的参数复制到target_model中\n",
    "\n",
    "        self.e_greed = e_greed  # 有一定概率随机选取动作，探索\n",
    "        self.e_greed_decrement = e_greed_decrement  # 随着训练逐步收敛，探索的程度慢慢降低\n",
    "\n",
    "    def build_program(self):\n",
    "        self.pred_program = fluid.Program()\n",
    "        self.learn_program = fluid.Program()\n",
    "\n",
    "        with fluid.program_guard(self.pred_program):  # 搭建计算图用于 预测动作，定义输入输出变量\n",
    "            obs = layers.data(\n",
    "                name='obs', shape=[self.obs_dim], dtype='float32')\n",
    "            self.value = self.alg.predict(obs)\n",
    "\n",
    "        with fluid.program_guard(self.learn_program):  # 搭建计算图用于 更新Q网络，定义输入输出变量\n",
    "            obs = layers.data(\n",
    "                name='obs', shape=[self.obs_dim], dtype='float32')\n",
    "            action = layers.data(name='act', shape=[1], dtype='int32')\n",
    "            reward = layers.data(name='reward', shape=[], dtype='float32')\n",
    "            next_obs = layers.data(\n",
    "                name='next_obs', shape=[self.obs_dim], dtype='float32')\n",
    "            terminal = layers.data(name='terminal', shape=[], dtype='bool')\n",
    "            self.cost = self.alg.learn(obs, action, reward, next_obs, terminal)\n",
    "\n",
    "    def sample(self, obs):\n",
    "        sample = np.random.rand()  # 产生0~1之间的小数\n",
    "        if sample < self.e_greed:\n",
    "            act = np.random.randint(self.act_dim)  # 探索：每个动作都有概率被选择\n",
    "        else:\n",
    "            act = self.predict(obs)  # 选择最优动作\n",
    "        self.e_greed = max(\n",
    "            0.01, self.e_greed - self.e_greed_decrement)  # 随着训练逐步收敛，探索的程度慢慢降低\n",
    "        return act\n",
    "\n",
    "    def predict(self, obs):  # 选择最优动作\n",
    "        obs = np.expand_dims(obs, axis=0)\n",
    "        pred_Q = self.fluid_executor.run(\n",
    "            self.pred_program,\n",
    "            feed={'obs': obs.astype('float32')},\n",
    "            fetch_list=[self.value])[0]\n",
    "        pred_Q = np.squeeze(pred_Q, axis=0)\n",
    "        act = np.argmax(pred_Q)  # 选择Q最大的下标，即对应的动作\n",
    "        return act\n",
    "\n",
    "    def learn(self, obs, act, reward, next_obs, terminal):\n",
    "        # 每隔200个training steps同步一次model和target_model的参数\n",
    "        if self.global_step % self.update_target_steps == 0:\n",
    "            self.alg.sync_target()\n",
    "        self.global_step += 1\n",
    "\n",
    "        act = np.expand_dims(act, -1)\n",
    "        feed = {\n",
    "            'obs': obs.astype('float32'),\n",
    "            'act': act.astype('int32'),\n",
    "            'reward': reward,\n",
    "            'next_obs': next_obs.astype('float32'),\n",
    "            'terminal': terminal\n",
    "        }\n",
    "        cost = self.fluid_executor.run(\n",
    "            self.learn_program, feed=feed, fetch_list=[self.cost])[0]  # 训练一次网络\n",
    "        return cost"
   ]
  },
  {
   "cell_type": "markdown",
   "metadata": {
    "collapsed": false
   },
   "source": [
    "### Step5 ReplayMemory\n",
    "* 经验池：用于存储多条经验，实现 经验回放。"
   ]
  },
  {
   "cell_type": "code",
   "execution_count": 7,
   "metadata": {
    "collapsed": false
   },
   "outputs": [],
   "source": [
    "import random\n",
    "import collections\n",
    "import numpy as np\n",
    "\n",
    "\n",
    "class ReplayMemory(object):\n",
    "    def __init__(self, max_size):\n",
    "        self.buffer = collections.deque(maxlen=max_size)\n",
    "\n",
    "    # 增加一条经验到经验池中\n",
    "    def append(self, exp):\n",
    "        self.buffer.append(exp)\n",
    "\n",
    "    # 从经验池中选取N条经验出来\n",
    "    def sample(self, batch_size):\n",
    "        mini_batch = random.sample(self.buffer, batch_size)\n",
    "        obs_batch, action_batch, reward_batch, next_obs_batch, done_batch = [], [], [], [], []\n",
    "\n",
    "        for experience in mini_batch:\n",
    "            s, a, r, s_p, done = experience\n",
    "            obs_batch.append(s)\n",
    "            action_batch.append(a)\n",
    "            reward_batch.append(r)\n",
    "            next_obs_batch.append(s_p)\n",
    "            done_batch.append(done)\n",
    "\n",
    "        return np.array(obs_batch).astype('float32'), \\\n",
    "            np.array(action_batch).astype('float32'), np.array(reward_batch).astype('float32'),\\\n",
    "            np.array(next_obs_batch).astype('float32'), np.array(done_batch).astype('float32')\n",
    "\n",
    "    def __len__(self):\n",
    "        return len(self.buffer)\n"
   ]
  },
  {
   "cell_type": "markdown",
   "metadata": {
    "collapsed": false
   },
   "source": [
    "### Step6 Training && Test（训练&&测试）"
   ]
  },
  {
   "cell_type": "code",
   "execution_count": 8,
   "metadata": {
    "collapsed": false
   },
   "outputs": [],
   "source": [
    "# 训练一个episode\n",
    "def run_episode(env, agent, rpm):\n",
    "    total_reward = 0\n",
    "    obs = env.reset()\n",
    "    step = 0\n",
    "    while True:\n",
    "        step += 1\n",
    "        action = agent.sample(obs)  # 采样动作，所有动作都有概率被尝试到\n",
    "        next_obs, reward, done, _ = env.step(action)\n",
    "        rpm.append((obs, action, reward, next_obs, done))\n",
    "\n",
    "        # train model\n",
    "        if (len(rpm) > MEMORY_WARMUP_SIZE) and (step % LEARN_FREQ == 0):\n",
    "            (batch_obs, batch_action, batch_reward, batch_next_obs,\n",
    "             batch_done) = rpm.sample(BATCH_SIZE)\n",
    "            train_loss = agent.learn(batch_obs, batch_action, batch_reward,\n",
    "                                     batch_next_obs,\n",
    "                                     batch_done)  # s,a,r,s',done\n",
    "\n",
    "        total_reward += reward\n",
    "        obs = next_obs\n",
    "        if done:\n",
    "            break\n",
    "    return total_reward\n",
    "\n",
    "\n",
    "# 评估 agent, 跑 5 个episode，总reward求平均\n",
    "def evaluate(env, agent, render=False):\n",
    "    eval_reward = []\n",
    "    for i in range(5):\n",
    "        obs = env.reset()\n",
    "        episode_reward = 0\n",
    "        while True:\n",
    "            action = agent.predict(obs)  # 预测动作，只选最优动作\n",
    "            obs, reward, done, _ = env.step(action)\n",
    "            episode_reward += reward\n",
    "            if render:\n",
    "                env.render()\n",
    "            if done:\n",
    "                break\n",
    "        eval_reward.append(episode_reward)\n",
    "    return np.mean(eval_reward)\n"
   ]
  },
  {
   "cell_type": "markdown",
   "metadata": {
    "collapsed": false
   },
   "source": [
    "### Step7 创建环境和Agent，创建经验池，启动训练，保存模型"
   ]
  },
  {
   "cell_type": "code",
   "execution_count": 9,
   "metadata": {
    "collapsed": false,
    "tags": []
   },
   "outputs": [
    {
     "output_type": "stream",
     "name": "stdout",
     "text": "\u001b[32m[07-09 19:12:54 MainThread @machine_info.py:88]\u001b[0m Cannot find available GPU devices, using CPU now.\n\u001b[32m[07-09 19:12:55 MainThread @machine_info.py:88]\u001b[0m Cannot find available GPU devices, using CPU now.\n\u001b[32m[07-09 19:12:56 MainThread @machine_info.py:88]\u001b[0m Cannot find available GPU devices, using CPU now.\n\u001b[32m[07-09 19:13:03 MainThread @<ipython-input-9-eeec60765889>:38]\u001b[0m episode:50    e_greed:0.09928499999999929   test_reward:9.6\n\u001b[32m[07-09 19:13:09 MainThread @<ipython-input-9-eeec60765889>:38]\u001b[0m episode:100    e_greed:0.09876699999999877   test_reward:9.2\n\u001b[32m[07-09 19:13:16 MainThread @<ipython-input-9-eeec60765889>:38]\u001b[0m episode:150    e_greed:0.09827499999999828   test_reward:9.4\n\u001b[32m[07-09 19:13:22 MainThread @<ipython-input-9-eeec60765889>:38]\u001b[0m episode:200    e_greed:0.09774799999999775   test_reward:9.2\n\u001b[32m[07-09 19:13:28 MainThread @<ipython-input-9-eeec60765889>:38]\u001b[0m episode:250    e_greed:0.09726499999999727   test_reward:9.6\n\u001b[32m[07-09 19:13:34 MainThread @<ipython-input-9-eeec60765889>:38]\u001b[0m episode:300    e_greed:0.09677599999999678   test_reward:9.6\n\u001b[32m[07-09 19:13:41 MainThread @<ipython-input-9-eeec60765889>:38]\u001b[0m episode:350    e_greed:0.09627799999999628   test_reward:10.0\n\u001b[32m[07-09 19:13:47 MainThread @<ipython-input-9-eeec60765889>:38]\u001b[0m episode:400    e_greed:0.09577099999999578   test_reward:9.6\n\u001b[32m[07-09 19:13:54 MainThread @<ipython-input-9-eeec60765889>:38]\u001b[0m episode:450    e_greed:0.09518599999999519   test_reward:9.0\n\u001b[32m[07-09 19:14:06 MainThread @<ipython-input-9-eeec60765889>:38]\u001b[0m episode:500    e_greed:0.0943949999999944   test_reward:57.0\n\u001b[32m[07-09 19:14:27 MainThread @<ipython-input-9-eeec60765889>:38]\u001b[0m episode:550    e_greed:0.09292799999999293   test_reward:54.8\n\u001b[32m[07-09 19:16:00 MainThread @<ipython-input-9-eeec60765889>:38]\u001b[0m episode:600    e_greed:0.08637999999998638   test_reward:200.0\n\u001b[32m[07-09 19:18:21 MainThread @<ipython-input-9-eeec60765889>:38]\u001b[0m episode:650    e_greed:0.07647899999997648   test_reward:200.0\n\u001b[32m[07-09 19:20:36 MainThread @<ipython-input-9-eeec60765889>:38]\u001b[0m episode:700    e_greed:0.06675999999996676   test_reward:186.0\n\u001b[32m[07-09 19:22:46 MainThread @<ipython-input-9-eeec60765889>:38]\u001b[0m episode:750    e_greed:0.05751499999995752   test_reward:192.0\n\u001b[32m[07-09 19:24:45 MainThread @<ipython-input-9-eeec60765889>:38]\u001b[0m episode:800    e_greed:0.04913999999994914   test_reward:199.4\n\u001b[32m[07-09 19:26:44 MainThread @<ipython-input-9-eeec60765889>:38]\u001b[0m episode:850    e_greed:0.040925999999940926   test_reward:178.8\n\u001b[32m[07-09 19:28:33 MainThread @<ipython-input-9-eeec60765889>:38]\u001b[0m episode:900    e_greed:0.033393999999933394   test_reward:164.4\n\u001b[32m[07-09 19:30:19 MainThread @<ipython-input-9-eeec60765889>:38]\u001b[0m episode:950    e_greed:0.025982999999925982   test_reward:163.2\n\u001b[32m[07-09 19:32:05 MainThread @<ipython-input-9-eeec60765889>:38]\u001b[0m episode:1000    e_greed:0.018798999999918797   test_reward:147.6\n\u001b[32m[07-09 19:33:59 MainThread @<ipython-input-9-eeec60765889>:38]\u001b[0m episode:1050    e_greed:0.01072999999991922   test_reward:119.6\n\u001b[32m[07-09 19:35:46 MainThread @<ipython-input-9-eeec60765889>:38]\u001b[0m episode:1100    e_greed:0.01   test_reward:200.0\n\u001b[32m[07-09 19:37:45 MainThread @<ipython-input-9-eeec60765889>:38]\u001b[0m episode:1150    e_greed:0.01   test_reward:132.0\n\u001b[32m[07-09 19:39:41 MainThread @<ipython-input-9-eeec60765889>:38]\u001b[0m episode:1200    e_greed:0.01   test_reward:150.0\n\u001b[32m[07-09 19:41:38 MainThread @<ipython-input-9-eeec60765889>:38]\u001b[0m episode:1250    e_greed:0.01   test_reward:154.6\n\u001b[32m[07-09 19:43:41 MainThread @<ipython-input-9-eeec60765889>:38]\u001b[0m episode:1300    e_greed:0.01   test_reward:200.0\n\u001b[32m[07-09 19:45:48 MainThread @<ipython-input-9-eeec60765889>:38]\u001b[0m episode:1350    e_greed:0.01   test_reward:120.6\n\u001b[32m[07-09 19:47:55 MainThread @<ipython-input-9-eeec60765889>:38]\u001b[0m episode:1400    e_greed:0.01   test_reward:200.0\n\u001b[32m[07-09 19:50:17 MainThread @<ipython-input-9-eeec60765889>:38]\u001b[0m episode:1450    e_greed:0.01   test_reward:200.0\n\u001b[32m[07-09 19:52:38 MainThread @<ipython-input-9-eeec60765889>:38]\u001b[0m episode:1500    e_greed:0.01   test_reward:200.0\n\u001b[32m[07-09 19:53:56 MainThread @<ipython-input-9-eeec60765889>:38]\u001b[0m episode:1550    e_greed:0.01   test_reward:29.4\n\u001b[32m[07-09 19:54:17 MainThread @<ipython-input-9-eeec60765889>:38]\u001b[0m episode:1600    e_greed:0.01   test_reward:24.8\n\u001b[32m[07-09 19:56:09 MainThread @<ipython-input-9-eeec60765889>:38]\u001b[0m episode:1650    e_greed:0.01   test_reward:200.0\n\u001b[32m[07-09 19:58:25 MainThread @<ipython-input-9-eeec60765889>:38]\u001b[0m episode:1700    e_greed:0.01   test_reward:192.4\n\u001b[32m[07-09 20:00:28 MainThread @<ipython-input-9-eeec60765889>:38]\u001b[0m episode:1750    e_greed:0.01   test_reward:199.8\n\u001b[32m[07-09 20:02:33 MainThread @<ipython-input-9-eeec60765889>:38]\u001b[0m episode:1800    e_greed:0.01   test_reward:168.2\n\u001b[32m[07-09 20:04:43 MainThread @<ipython-input-9-eeec60765889>:38]\u001b[0m episode:1850    e_greed:0.01   test_reward:196.2\n\u001b[32m[07-09 20:06:42 MainThread @<ipython-input-9-eeec60765889>:38]\u001b[0m episode:1900    e_greed:0.01   test_reward:117.4\n\u001b[32m[07-09 20:08:28 MainThread @<ipython-input-9-eeec60765889>:38]\u001b[0m episode:1950    e_greed:0.01   test_reward:148.4\n\u001b[32m[07-09 20:10:44 MainThread @<ipython-input-9-eeec60765889>:38]\u001b[0m episode:2000    e_greed:0.01   test_reward:200.0\n"
    }
   ],
   "source": [
    "env = gym.make('CartPole-v0')  # CartPole-v0: 预期最后一次评估总分 > 180（最大值是200）\n",
    "action_dim = env.action_space.n  # CartPole-v0: 2\n",
    "obs_shape = env.observation_space.shape  # CartPole-v0: (4,)\n",
    "\n",
    "rpm = ReplayMemory(MEMORY_SIZE)  # DQN的经验回放池\n",
    "\n",
    "# 根据parl框架构建agent\n",
    "model = Model(act_dim=action_dim)\n",
    "algorithm = DQN(model, act_dim=action_dim, gamma=GAMMA, lr=LEARNING_RATE)\n",
    "agent = Agent(\n",
    "    algorithm,\n",
    "    obs_dim=obs_shape[0],\n",
    "    act_dim=action_dim,\n",
    "    e_greed=0.1,  # 有一定概率随机选取动作，探索\n",
    "    e_greed_decrement=1e-6)  # 随着训练逐步收敛，探索的程度慢慢降低\n",
    "\n",
    "# 加载模型\n",
    "# save_path = './dqn_model.ckpt'\n",
    "# agent.restore(save_path)\n",
    "\n",
    "# 先往经验池里存一些数据，避免最开始训练的时候样本丰富度不够\n",
    "while len(rpm) < MEMORY_WARMUP_SIZE:\n",
    "    run_episode(env, agent, rpm)\n",
    "\n",
    "max_episode = 2000\n",
    "\n",
    "# 开始训练\n",
    "episode = 0\n",
    "while episode < max_episode:  # 训练max_episode个回合，test部分不计算入episode数量\n",
    "    # train part\n",
    "    for i in range(0, 50):\n",
    "        total_reward = run_episode(env, agent, rpm)\n",
    "        episode += 1\n",
    "\n",
    "    # test part\n",
    "    eval_reward = evaluate(env, agent, render=False)  # render=True 查看显示效果\n",
    "    logger.info('episode:{}    e_greed:{}   test_reward:{}'.format(\n",
    "        episode, agent.e_greed, eval_reward))\n",
    "\n",
    "# 训练结束，保存模型\n",
    "save_path = './dqn_model.ckpt'\n",
    "agent.save(save_path)"
   ]
  }
 ],
 "metadata": {
  "kernelspec": {
   "display_name": "Python 3.7.7 64-bit ('paddle_env': conda)",
   "language": "python",
   "name": "python37764bitpaddleenvconda1ff93797bcc3418dbcfd5431033bde26"
  },
  "language_info": {
   "codemirror_mode": {
    "name": "ipython",
    "version": 3
   },
   "file_extension": ".py",
   "mimetype": "text/x-python",
   "name": "python",
   "nbconvert_exporter": "python",
   "pygments_lexer": "ipython3",
   "version": "3.7.7-final"
  }
 },
 "nbformat": 4,
 "nbformat_minor": 1
}